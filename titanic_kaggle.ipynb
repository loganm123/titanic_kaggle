{
 "cells": [
  {
   "cell_type": "code",
   "execution_count": null,
   "metadata": {},
   "outputs": [],
   "source": [
    "#import necessary modules\n",
    "#wanting to predict which passengers survived\n",
    "#this will be a supervised learning activity with a binary ouput - classification\n",
    "\n",
    "from sklearn.linear_model import LinearRegression\n",
    "\n",
    "# import pandas\n",
    "import pandas as pd\n",
    "\n",
    "# import numpy\n",
    "import numpy as np"
   ]
  },
  {
   "cell_type": "code",
   "execution_count": null,
   "metadata": {},
   "outputs": [],
   "source": [
    "#create linear regression model\n",
    "\n",
    "lr_model = LinearRegression(normalize = True)"
   ]
  },
  {
   "cell_type": "code",
   "execution_count": null,
   "metadata": {},
   "outputs": [],
   "source": [
    "#import training data into a pandas dataframe, set first column (passenger ID), as our index for the data\n",
    "data = pd.read_csv('train.csv', index_col = 0)\n",
    "\n",
    "#read in test data into a pandas dataframe\n",
    "eval_data = pd.read_csv('test.csv', index_col=0)\n",
    "\n"
   ]
  },
  {
   "cell_type": "code",
   "execution_count": null,
   "metadata": {},
   "outputs": [],
   "source": [
    "data.info(\n",
    ")\n",
    "\n",
    "data.head(3)"
   ]
  },
  {
   "cell_type": "code",
   "execution_count": null,
   "metadata": {},
   "outputs": [],
   "source": [
    "#lets check out these objects\n",
    "\n",
    "#skip name because value counts won't give us too many info... probably\n",
    "\n",
    "data['Sex'].value_counts()\n",
    "\n",
    "\n",
    "\n",
    "\n",
    "\n",
    "\n"
   ]
  },
  {
   "cell_type": "code",
   "execution_count": null,
   "metadata": {},
   "outputs": [],
   "source": [
    "#see if these are unique or use a special ticketing system\n",
    "data[\"Ticket\"].value_counts()\n",
    "#nope, unique values"
   ]
  },
  {
   "cell_type": "code",
   "execution_count": null,
   "metadata": {},
   "outputs": [],
   "source": [
    "data[\"Cabin\"].value_counts()\n",
    "#unique assigned cabins, maybe worth investigating to see if it gives a good view into \n",
    "#where and maybe that correlates"
   ]
  },
  {
   "cell_type": "code",
   "execution_count": null,
   "metadata": {},
   "outputs": [],
   "source": [
    "data[\"Embarked\"].value_counts()\n",
    "\n",
    "#okay so this one has got some unique value probably worth checking out"
   ]
  },
  {
   "cell_type": "code",
   "execution_count": null,
   "metadata": {},
   "outputs": [],
   "source": [
    "data.describe()"
   ]
  },
  {
   "cell_type": "code",
   "execution_count": null,
   "metadata": {},
   "outputs": [],
   "source": [
    "#getting a feel for what we're working with\n",
    "import matplotlib.pyplot as plt\n",
    "data.hist(bins = 10, figsize = (30, 20))\n",
    "plt.show()"
   ]
  },
  {
   "cell_type": "code",
   "execution_count": null,
   "metadata": {},
   "outputs": [],
   "source": [
    "#remove na\n",
    "data = data.dropna()\n"
   ]
  },
  {
   "cell_type": "code",
   "execution_count": null,
   "metadata": {},
   "outputs": [],
   "source": [
    "#select all rows and just the survived column, predicting target\n",
    "y = data.iloc[:,:1]\n",
    "\n",
    "#select all rows except for the survived column, features!\n",
    "X = data.iloc[:,2:]\n",
    "\n",
    "#time to clean up the data\n",
    "\n",
    "#let's start by removing ticket #, cabin, and name\n",
    "#those seem like they shouldn't influence the data\n",
    "\n",
    "X = X.drop(columns = ['Ticket', 'Cabin','Name'])\n",
    "\n",
    "\n",
    "\n",
    "#alright, time to split up gang\n",
    "from sklearn.model_selection import train_test_split\n",
    "X_train, X_test, y_train, y_test = train_test_split(X, y, test_size = 0.2, random_state = 69)\n",
    "\n"
   ]
  },
  {
   "cell_type": "code",
   "execution_count": null,
   "metadata": {},
   "outputs": [],
   "source": [
    "X_test.info()"
   ]
  },
  {
   "cell_type": "code",
   "execution_count": null,
   "metadata": {},
   "outputs": [],
   "source": [
    "#make a pipeline\n",
    "\n",
    "from sklearn.pipeline import Pipeline\n",
    "from sklearn.preprocessing import StandardScaler\n",
    "from sklearn.preprocessing import OneHotEncoder\n",
    "from sklearn.compose import ColumnTransformer\n",
    "\n",
    "std = StandardScaler()\n",
    "ohe = OneHotEncoder()\n",
    "\n",
    "ohe.fit_transform(X_train)\n",
    "\n",
    "cat_list = ['Sex','Embarked']\n",
    "num_list = ['Age', 'SibSp', 'Parch','Fare']\n",
    "print(cat_list)\n"
   ]
  },
  {
   "cell_type": "code",
   "execution_count": null,
   "metadata": {},
   "outputs": [],
   "source": [
    "full_ml_pipe = ColumnTransformer([\n",
    "    ('std_scaler',StandardScaler(), num_list),\n",
    "    (\"encoder\", OneHotEncoder(), cat_list)\n",
    "])\n",
    "\n",
    "X_train_prepped = full_ml_pipe.fit_transform(X_train)"
   ]
  },
  {
   "cell_type": "code",
   "execution_count": null,
   "metadata": {},
   "outputs": [],
   "source": [
    "print(len(X_train_prepped))\n",
    "y_train\n"
   ]
  },
  {
   "cell_type": "code",
   "execution_count": null,
   "metadata": {},
   "outputs": [],
   "source": [
    "#modelling\n",
    "from sklearn.tree import DecisionTreeClassifier\n",
    "tree_class = DecisionTreeClassifier(random_state = 69)\n",
    "\n",
    "tree_class.fit(X_train_prepped, y_train)\n",
    "\n",
    "#X_test_prepped = full_ml_pipe(X_test)\n",
    "\n",
    "preds = tree_class.predict(X_train_prepped)\n",
    "\n",
    "from sklearn.metrics import accuracy_score\n",
    "\n",
    "train_acc = accuracy_score(y_train, preds)\n",
    "\n",
    "print(train_acc)\n",
    "\n"
   ]
  },
  {
   "cell_type": "code",
   "execution_count": 31,
   "metadata": {},
   "outputs": [
    {
     "name": "stdout",
     "output_type": "stream",
     "text": [
      "37\n"
     ]
    },
    {
     "data": {
      "text/plain": [
       "37"
      ]
     },
     "execution_count": 31,
     "metadata": {},
     "output_type": "execute_result"
    }
   ],
   "source": [
    "X_test_prepped = full_ml_pipe.fit_transform(X_test)\n",
    "\n",
    "print(len(X_test_prepped))\n",
    "y_test.size\n"
   ]
  },
  {
   "cell_type": "code",
   "execution_count": 34,
   "metadata": {},
   "outputs": [
    {
     "name": "stdout",
     "output_type": "stream",
     "text": [
      "0.8108108108108109\n"
     ]
    }
   ],
   "source": [
    "preds_test = tree_class.predict(X_test_prepped)\n",
    "\n",
    "test_acc = accuracy_score(y_test,preds_test)\n",
    "print(test_acc)"
   ]
  }
 ],
 "metadata": {
  "kernelspec": {
   "display_name": "Python 3.10.5 64-bit",
   "language": "python",
   "name": "python3"
  },
  "language_info": {
   "codemirror_mode": {
    "name": "ipython",
    "version": 3
   },
   "file_extension": ".py",
   "mimetype": "text/x-python",
   "name": "python",
   "nbconvert_exporter": "python",
   "pygments_lexer": "ipython3",
   "version": "3.10.5"
  },
  "orig_nbformat": 4,
  "vscode": {
   "interpreter": {
    "hash": "369f2c481f4da34e4445cda3fffd2e751bd1c4d706f27375911949ba6bb62e1c"
   }
  }
 },
 "nbformat": 4,
 "nbformat_minor": 2
}
